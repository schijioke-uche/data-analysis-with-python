{
 "cells": [
  {
   "cell_type": "markdown",
   "metadata": {},
   "source": [
    "# Delta Method   \n",
    "\n",
    "\n",
    "In this notebook, I simulate confidence intervals for a percent change between two samples.    \n",
    "\n",
    "\n",
    "\n",
    "The *Delta method* is used in large-scale A/B testing to measure percent change.     \n",
    "In the practice, we want to measure the average treatment effect by the difference of the same metric from control and treatment groups.     \n",
    "Lets $X$ and $Y$ be a control and treatment groups with mean values $\\overline{X}$ and $\\overline{Y}$, respectively.    \n",
    "$s_x$, $s_y$ are their corresponding standard deviation and $s_{xy}$ their covariance.    \n",
    "\n",
    "A **confidence interval** is given by    \n",
    "Point estimate $\\pm$ Margin of error      \n",
    "\n",
    "**Point estimate**     \n",
    "$\\frac{\\overline{Y}}{\\overline{X}} - 1$    \n",
    "\n",
    "**Margin of error**     \n",
    "$\\frac{\\displaystyle z_{\\alpha/2}}{\\displaystyle \\sqrt{n}}\n",
    "\\sqrt{s^2_y \n",
    "- 2 \\frac{\\overline{Y}}{\\overline{X}} s_{xy} + \n",
    "\\frac{\\overline{Y}^2}{\\overline{X}^2} s^2_x}\n",
    "$\n",
    "\n",
    "where $z_{\\alpha/2}$ is the $\\alpha/2$ qunatile for $N(0, 1)$. \n",
    "\n",
    "**Source:**\n",
    "Alex Deng, Ulf Knoblich and Jiannan Lu, \n",
    "Applying the Delta Method in Metric Analytics: A Practical Guide with Novel Ideas,\n",
    "Proceedings of the 24th ACM SIGKDD International Conference on Knowledge Discovery \\&\\#38; Data Mining},\n",
    "2018\n",
    "https://arxiv.org/pdf/1803.06336.pdf\n"
   ]
  },
  {
   "cell_type": "code",
   "execution_count": 2,
   "metadata": {},
   "outputs": [],
   "source": [
    "import numpy as np\n",
    "from scipy import stats\n",
    "import pandas as pd"
   ]
  },
  {
   "cell_type": "code",
   "execution_count": 24,
   "metadata": {},
   "outputs": [],
   "source": [
    "bootstrap_iterations = 500000\n",
    "\n",
    "def confidence_interval_delta(X, Y):\n",
    "    \"\"\"Construct confidence interval for the Delta method with bias correction    \n",
    "    Algorithm 1 of Alex Deng paper (see reference above)\"\"\"\n",
    "    size = len(X)\n",
    "    xmean = X.mean()\n",
    "    ymean = Y.mean()\n",
    "    sx = X.std()\n",
    "    sy = Y.std()\n",
    "    sxy = np.sum((X - X.mean()) * (Y - Y.mean())) / (size - 1)    \n",
    "    bias_correction = ymean / xmean**3 * sx**2 / size - 1 / xmean**2 * sxy / size\n",
    "    point_estimate = ymean / xmean - 1 + bias_correction\n",
    "    vest = sy**2 / xmean **2 - 2 * ymean / xmean**3 * sxy + ymean**2 / xmean**4 * sx**2\n",
    "    #z_critical = stats.norm.ppf(1 - alpha / 2)\n",
    "    z_critical = 1.96\n",
    "    moe = z_critical * np.sqrt(vest / size)\n",
    "    confidence_interval = point_estimate - moe, point_estimate + moe\n",
    "    return confidence_interval\n",
    "\n",
    "def interval_contains_true_p(ci, p):\n",
    "    return ci[0] <= p <= ci[1]\n",
    "\n",
    "def get_coverage(loc1, loc2, scale, size):\n",
    "    \"\"\"Estimage the coverage for the Delta method with bias correction    \n",
    "    Coverage is the proportion of created confidence intervals which contain the true percentage change\n",
    "    \"\"\"\n",
    "    coverage = 0\n",
    "    for i in range(bootstrap_iterations):\n",
    "        X = np.random.normal(loc=loc1, scale=scale, size=size)\n",
    "        Y = np.random.normal(loc=loc2, scale=scale, size=size)\n",
    "        true_percentage_change = loc2 - loc1\n",
    "        confidence_interval = confidence_interval_delta(X, Y)\n",
    "        if interval_contains_true_p(confidence_interval, true_percentage_change):\n",
    "            coverage += 1\n",
    "    coverage = coverage / bootstrap_iterations\n",
    "    return coverage"
   ]
  },
  {
   "cell_type": "code",
   "execution_count": 25,
   "metadata": {},
   "outputs": [
    {
     "data": {
      "text/html": [
       "<div>\n",
       "<style scoped>\n",
       "    .dataframe tbody tr th:only-of-type {\n",
       "        vertical-align: middle;\n",
       "    }\n",
       "\n",
       "    .dataframe tbody tr th {\n",
       "        vertical-align: top;\n",
       "    }\n",
       "\n",
       "    .dataframe thead th {\n",
       "        text-align: right;\n",
       "    }\n",
       "</style>\n",
       "<table border=\"1\" class=\"dataframe\">\n",
       "  <thead>\n",
       "    <tr style=\"text-align: right;\">\n",
       "      <th></th>\n",
       "      <th>coverage</th>\n",
       "      <th>n</th>\n",
       "    </tr>\n",
       "  </thead>\n",
       "  <tbody>\n",
       "    <tr>\n",
       "      <th>0</th>\n",
       "      <td>0.928288</td>\n",
       "      <td>20</td>\n",
       "    </tr>\n",
       "  </tbody>\n",
       "</table>\n",
       "</div>"
      ],
      "text/plain": [
       "   coverage   n\n",
       "0  0.928288  20"
      ]
     },
     "execution_count": 25,
     "metadata": {},
     "output_type": "execute_result"
    }
   ],
   "source": [
    "alpha = 0.05 #significance level\n",
    "loc1 = 1.0 # mean for X\n",
    "loc2 = 1.1 # mean for Y\n",
    "scale = 0.1 # std for both X and Y\n",
    "\n",
    "delta_coverage = []\n",
    "for n in [20, 50, 200, 2000]: #sample sizes\n",
    "    coverage = get_coverage(loc1, loc2, scale, n)\n",
    "    delta_coverage.append({'n' : n, 'coverage' : coverage})\n",
    "    break\n",
    "delta_coverage = pd.DataFrame(delta_coverage)\n",
    "delta_coverage"
   ]
  },
  {
   "cell_type": "code",
   "execution_count": null,
   "metadata": {},
   "outputs": [],
   "source": []
  },
  {
   "cell_type": "code",
   "execution_count": null,
   "metadata": {},
   "outputs": [],
   "source": []
  }
 ],
 "metadata": {
  "kernelspec": {
   "display_name": "Python 3",
   "language": "python",
   "name": "python3"
  },
  "language_info": {
   "codemirror_mode": {
    "name": "ipython",
    "version": 3
   },
   "file_extension": ".py",
   "mimetype": "text/x-python",
   "name": "python",
   "nbconvert_exporter": "python",
   "pygments_lexer": "ipython3",
   "version": "3.5.2"
  }
 },
 "nbformat": 4,
 "nbformat_minor": 2
}
