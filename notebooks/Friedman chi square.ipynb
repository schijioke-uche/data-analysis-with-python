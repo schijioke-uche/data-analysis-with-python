{
 "cells": [
  {
   "cell_type": "markdown",
   "metadata": {},
   "source": [
    "# Friedman $\\Large \\chi^2$\n",
    "by Tonatiuh Rangel    \n",
    "Friedman test for repeated measurements   \n",
    "\n",
    "\n",
    "## Contents:    \n",
    "1. [Theory](#theory)   \n",
    "2. [Numerical example](#example)\n",
    "3. [Scipy example](#scipy)"
   ]
  },
  {
   "cell_type": "markdown",
   "metadata": {},
   "source": [
    "<a id='theory'></a>\n",
    "\n",
    "This is the non-parametric version of the [repeated measures ANOVA](https://github.com/trangel/stats-with-python/blob/master/notebooks/Repeated measures ANOVA.ipynb).    \n",
    "\n",
    "\n",
    "## Usage\n",
    "Similarly than repeated measures ANOVA, Friedman $\\chi^2$ is used in two kinds of experiments    \n",
    "1. to analyze changes or consistency among measurements    \n",
    "2. to analyze differences in mean scores under 3+ different conditions/times  \n",
    "\n",
    "\n",
    "### Assumptions:\n",
    "This is a non-parametric test, so there are no assumptions on the shape of distributions.      \n",
    "\n",
    "### Hypothesis\n",
    "Null hypothesis   \n",
    "$\\mathcal{H}_0$ : $\\mu_1 = \\mu_2 = \\mu_3 = \\dots  = \\mu_k$   \n",
    "for $k$ groups   \n",
    "\n",
    "Alternative hypothesis   \n",
    "$\\mathcal{H}_1$ :  at least two means are significantly different  \n",
    "\n",
    "### Test method    \n",
    "\n",
    "\n",
    "As in other non-parametric methods, we need to replace the data with its ranks:   \n",
    "    \n",
    "Steps     \n",
    "\n",
    "$k = $ number of groups (times or conditions)    \n",
    "$n = $ number of subjects \n",
    "\n",
    "#### Ranks\n",
    "Given data $\\left\\{x_{ij}\\right\\}_{n\\times k}$ a matrix of dimension $n \\times k$, find the rank matrix $\\left\\{r_ij\\right\\}_{n\\times k}$ \n",
    "where the $r_{ij}$ is the rank of $x_ij$ within block $i$.   \n",
    "\n",
    "\n",
    "#### Average sum of ranks $\\overline{r}$\n",
    "\n",
    "$\\overline{r} = \\frac{1}{nk}\\sum_{i=1}^n \\sum_{j=1}^k r_{ij}$\n",
    "\n",
    "#### Sum of squares for groups $SS_\\textrm{groups}$ \n",
    "A group is a time or a condition   \n",
    "\n",
    "$SS_\\textrm{groups} = n \\sum_{i=1}^k (\\overline{r}_i - \\overline{r})^2$\n",
    "\n",
    "\n",
    "##### Sum of squares error $SS_\\textrm{error}$    \n",
    "\n",
    "$SS_\\textrm{error} = \\frac{1}{n(k-1)} \\sum_{i=1}^N \\sum_{j=1}^k (r_{ij} - \\bar{r})^2$\n",
    "\n",
    "\n",
    "#### $Q$-statistic:    \n",
    "As in other tests, we calculate a $Q$-statistic  \n",
    "\n",
    "${\\displaystyle Q={\\frac {SS_\\textrm{groups}}{SS_\\textrm{error}}}} $. \n",
    "\n",
    "\n",
    "The above will become more evindent with the following numerical example    \n",
    "\n",
    "#### Interpreting the results     \n",
    "* If $n$ or $k$ is large (i.e. n > 15 or k > 4), the probability distribution of Q can be approximated by that of a chi-squared distribution. In this case the p-value is given by ${\\displaystyle \\mathbf {P} (\\chi _{k-1}^{2}\\geq Q)} \\mathbf{P}(\\chi^2_{k-1} \\ge Q)$.     \n",
    "* If $n$ or $k$ is small, the p-value should be obtained from tables of Q for the Friedman test.\n",
    "\n",
    "\n",
    "Further reading:\n",
    "* https://en.wikipedia.org/wiki/Friedman_test"
   ]
  },
  {
   "cell_type": "markdown",
   "metadata": {
    "collapsed": true
   },
   "source": [
    "<a id='example'></a>    \n",
    "\n",
    "## Numerical example    \n",
    "In this test, let's use a hypothethical example of blood glucose (BG) readings of persons with diabetes (same test used for my notebook on Repeated measures ANOVA).       \n",
    "The test is done three times, say before, within and after a given clinical treatment and we want to know if there is a significant difference within the groups (times).     \n",
    "\n",
    "The database is not real but just to be used as a toy example.   \n",
    "This contains BG readings (in mg/dL) for 40 persons with diabetes at different times."
   ]
  },
  {
   "cell_type": "code",
   "execution_count": 1,
   "metadata": {},
   "outputs": [
    {
     "data": {
      "text/html": [
       "<div>\n",
       "<style>\n",
       "    .dataframe thead tr:only-child th {\n",
       "        text-align: right;\n",
       "    }\n",
       "\n",
       "    .dataframe thead th {\n",
       "        text-align: left;\n",
       "    }\n",
       "\n",
       "    .dataframe tbody tr th {\n",
       "        vertical-align: top;\n",
       "    }\n",
       "</style>\n",
       "<table border=\"1\" class=\"dataframe\">\n",
       "  <thead>\n",
       "    <tr style=\"text-align: right;\">\n",
       "      <th></th>\n",
       "      <th>before</th>\n",
       "      <th>during</th>\n",
       "      <th>after</th>\n",
       "    </tr>\n",
       "    <tr>\n",
       "      <th>Subject</th>\n",
       "      <th></th>\n",
       "      <th></th>\n",
       "      <th></th>\n",
       "    </tr>\n",
       "  </thead>\n",
       "  <tbody>\n",
       "    <tr>\n",
       "      <th>0</th>\n",
       "      <td>89.162573</td>\n",
       "      <td>94.023517</td>\n",
       "      <td>94.594145</td>\n",
       "    </tr>\n",
       "    <tr>\n",
       "      <th>1</th>\n",
       "      <td>90.857629</td>\n",
       "      <td>95.273755</td>\n",
       "      <td>95.040646</td>\n",
       "    </tr>\n",
       "    <tr>\n",
       "      <th>2</th>\n",
       "      <td>94.912999</td>\n",
       "      <td>96.612870</td>\n",
       "      <td>95.200472</td>\n",
       "    </tr>\n",
       "    <tr>\n",
       "      <th>3</th>\n",
       "      <td>95.254064</td>\n",
       "      <td>96.818673</td>\n",
       "      <td>97.205801</td>\n",
       "    </tr>\n",
       "    <tr>\n",
       "      <th>4</th>\n",
       "      <td>97.136291</td>\n",
       "      <td>97.760342</td>\n",
       "      <td>98.428840</td>\n",
       "    </tr>\n",
       "    <tr>\n",
       "      <th>5</th>\n",
       "      <td>99.809999</td>\n",
       "      <td>99.169227</td>\n",
       "      <td>98.867769</td>\n",
       "    </tr>\n",
       "    <tr>\n",
       "      <th>6</th>\n",
       "      <td>101.094087</td>\n",
       "      <td>99.579283</td>\n",
       "      <td>99.790581</td>\n",
       "    </tr>\n",
       "    <tr>\n",
       "      <th>7</th>\n",
       "      <td>101.531428</td>\n",
       "      <td>99.661758</td>\n",
       "      <td>100.669928</td>\n",
       "    </tr>\n",
       "    <tr>\n",
       "      <th>8</th>\n",
       "      <td>101.981148</td>\n",
       "      <td>100.812359</td>\n",
       "      <td>101.751155</td>\n",
       "    </tr>\n",
       "    <tr>\n",
       "      <th>9</th>\n",
       "      <td>101.993065</td>\n",
       "      <td>102.274035</td>\n",
       "      <td>101.751638</td>\n",
       "    </tr>\n",
       "  </tbody>\n",
       "</table>\n",
       "</div>"
      ],
      "text/plain": [
       "             before      during       after\n",
       "Subject                                    \n",
       "0         89.162573   94.023517   94.594145\n",
       "1         90.857629   95.273755   95.040646\n",
       "2         94.912999   96.612870   95.200472\n",
       "3         95.254064   96.818673   97.205801\n",
       "4         97.136291   97.760342   98.428840\n",
       "5         99.809999   99.169227   98.867769\n",
       "6        101.094087   99.579283   99.790581\n",
       "7        101.531428   99.661758  100.669928\n",
       "8        101.981148  100.812359  101.751155\n",
       "9        101.993065  102.274035  101.751638"
      ]
     },
     "execution_count": 1,
     "metadata": {},
     "output_type": "execute_result"
    }
   ],
   "source": [
    "import pandas as pd\n",
    "import numpy as np\n",
    "# This is to print in markdown style\n",
    "from IPython.display import Markdown, display\n",
    "def printmd(string):\n",
    "    display(Markdown(string))\n",
    "\n",
    "# Read dataset locally:\n",
    "#df = pd.read_csv('../data/BG-db.csv',index_col=0)\n",
    "\n",
    "\n",
    "# Read dataset from url:\n",
    "import io\n",
    "import requests\n",
    "url=\"https://raw.githubusercontent.com/trangel/stats-with-python/master/data/BG-db.csv\"\n",
    "s=requests.get(url).content\n",
    "df=pd.read_csv(io.StringIO(s.decode('utf-8')),index_col=0)\n",
    "\n",
    "\n",
    "df.columns=['before','during','after']\n",
    "df.index.name='Subject'\n",
    "df.head(10)"
   ]
  },
  {
   "cell_type": "code",
   "execution_count": 2,
   "metadata": {},
   "outputs": [
    {
     "data": {
      "image/png": "[encoded data removed]",
      "text/plain": [
       "<matplotlib.figure.Figure at 0x117688f60>"
      ]
     },
     "metadata": {},
     "output_type": "display_data"
    }
   ],
   "source": [
    "# Let's visualize the data\n",
    "import matplotlib as plt\n",
    "%matplotlib inline\n",
    "import seaborn as sns\n",
    "sns.set(style=\"ticks\")\n",
    "\n",
    "\n",
    "bins = np.arange(70,150,6)\n",
    "\n",
    "A = df['before'].values\n",
    "B = df['during'].values\n",
    "C = df['after'].values\n",
    "\n",
    "\n",
    "# Show the results of a linear regression within each dataset\n",
    "ax1 = sns.distplot(A,bins=bins,label='Before treatment')\n",
    "ax2 = sns.distplot(B,bins=bins,label='During treatment')\n",
    "ax3 = sns.distplot(C,bins=bins,label='After treatment')\n",
    "\n",
    "\n",
    "plt.pyplot.xlabel('BG level')\n",
    "plt.pyplot.ylabel('Distribution of BG levels')\n",
    "plt.pyplot.legend(bbox_to_anchor=(0.45, 0.95), loc=2, borderaxespad=0.)\n",
    "\n",
    "plt.pyplot.xlim((60,160))\n",
    "plt.pyplot.show()"
   ]
  },
  {
   "cell_type": "markdown",
   "metadata": {},
   "source": [
    "#### Ranks\n",
    "Given data $\\left\\{x_{ij}\\right\\}_{n\\times k}$ a matrix of dimension $n \\times k$, find the rank matrix $\\left\\{r_ij\\right\\}_{n\\times k}$ \n",
    "where the $r_{ij}$ is the rank of $x_ij$ within block $i$. "
   ]
  },
  {
   "cell_type": "code",
   "execution_count": 3,
   "metadata": {},
   "outputs": [
    {
     "data": {
      "text/html": [
       "<div>\n",
       "<style>\n",
       "    .dataframe thead tr:only-child th {\n",
       "        text-align: right;\n",
       "    }\n",
       "\n",
       "    .dataframe thead th {\n",
       "        text-align: left;\n",
       "    }\n",
       "\n",
       "    .dataframe tbody tr th {\n",
       "        vertical-align: top;\n",
       "    }\n",
       "</style>\n",
       "<table border=\"1\" class=\"dataframe\">\n",
       "  <thead>\n",
       "    <tr style=\"text-align: right;\">\n",
       "      <th></th>\n",
       "      <th>Rank before</th>\n",
       "      <th>Rank during</th>\n",
       "      <th>Rank after</th>\n",
       "    </tr>\n",
       "    <tr>\n",
       "      <th>Subject</th>\n",
       "      <th></th>\n",
       "      <th></th>\n",
       "      <th></th>\n",
       "    </tr>\n",
       "  </thead>\n",
       "  <tbody>\n",
       "    <tr>\n",
       "      <th>0</th>\n",
       "      <td>1</td>\n",
       "      <td>2</td>\n",
       "      <td>3</td>\n",
       "    </tr>\n",
       "    <tr>\n",
       "      <th>1</th>\n",
       "      <td>1</td>\n",
       "      <td>3</td>\n",
       "      <td>2</td>\n",
       "    </tr>\n",
       "    <tr>\n",
       "      <th>2</th>\n",
       "      <td>1</td>\n",
       "      <td>3</td>\n",
       "      <td>2</td>\n",
       "    </tr>\n",
       "    <tr>\n",
       "      <th>3</th>\n",
       "      <td>1</td>\n",
       "      <td>2</td>\n",
       "      <td>3</td>\n",
       "    </tr>\n",
       "    <tr>\n",
       "      <th>4</th>\n",
       "      <td>1</td>\n",
       "      <td>2</td>\n",
       "      <td>3</td>\n",
       "    </tr>\n",
       "    <tr>\n",
       "      <th>5</th>\n",
       "      <td>3</td>\n",
       "      <td>2</td>\n",
       "      <td>1</td>\n",
       "    </tr>\n",
       "    <tr>\n",
       "      <th>6</th>\n",
       "      <td>3</td>\n",
       "      <td>1</td>\n",
       "      <td>2</td>\n",
       "    </tr>\n",
       "    <tr>\n",
       "      <th>7</th>\n",
       "      <td>3</td>\n",
       "      <td>1</td>\n",
       "      <td>2</td>\n",
       "    </tr>\n",
       "    <tr>\n",
       "      <th>8</th>\n",
       "      <td>3</td>\n",
       "      <td>1</td>\n",
       "      <td>2</td>\n",
       "    </tr>\n",
       "    <tr>\n",
       "      <th>9</th>\n",
       "      <td>2</td>\n",
       "      <td>3</td>\n",
       "      <td>1</td>\n",
       "    </tr>\n",
       "  </tbody>\n",
       "</table>\n",
       "</div>"
      ],
      "text/plain": [
       "         Rank before  Rank during  Rank after\n",
       "Subject                                      \n",
       "0                  1            2           3\n",
       "1                  1            3           2\n",
       "2                  1            3           2\n",
       "3                  1            2           3\n",
       "4                  1            2           3\n",
       "5                  3            2           1\n",
       "6                  3            1           2\n",
       "7                  3            1           2\n",
       "8                  3            1           2\n",
       "9                  2            3           1"
      ]
     },
     "execution_count": 3,
     "metadata": {},
     "output_type": "execute_result"
    }
   ],
   "source": [
    "def get_rank(row):\n",
    "    \"\"\"This will return the ranks as an array of a given array of numbers.\n",
    "    Input:\n",
    "    row, numpy array\n",
    "    Output\n",
    "    a numpy array with the ranks of each value in row\n",
    "    \n",
    "    Example:\n",
    "    If row=[40,100,20], this will\n",
    "    1) order the data 20, 40 , 100, \n",
    "    2) assign a rank based on the ordering\n",
    "    rank = [2,3,1]\n",
    "    \"\"\"\n",
    "    # Sort values\n",
    "    row_sorted = np.sort(row)\n",
    "    ranks = []\n",
    "    jj=0\n",
    "    for num1 in row:\n",
    "        jj = jj + 1\n",
    "        kk = 0\n",
    "        for num2 in row_sorted:\n",
    "            kk = kk + 1\n",
    "            if ( num1 == num2):\n",
    "                ranks.append(kk)\n",
    "                continue\n",
    "    return ranks\n",
    "        \n",
    "ranks = df.apply(lambda row: get_rank(row.values),axis=1 )\n",
    "ranks.columns = ['Rank before', 'Rank during','Rank after']\n",
    "ranks.head(10)"
   ]
  },
  {
   "cell_type": "markdown",
   "metadata": {},
   "source": [
    "#### Average sum of ranks $\\overline{r}$\n",
    "\n",
    "$\\overline{r} = \\frac{1}{nk}\\sum_{i=1}^n \\sum_{j=1}^k r_{ij}$"
   ]
  },
  {
   "cell_type": "code",
   "execution_count": 4,
   "metadata": {
    "collapsed": true
   },
   "outputs": [],
   "source": [
    "rbar = ranks.mean().mean()\n",
    "\n",
    "# Get values for k and n\n",
    "n = len(ranks)\n",
    "k = len(ranks.columns)"
   ]
  },
  {
   "cell_type": "markdown",
   "metadata": {},
   "source": [
    "#### Sum of squares for groups $SS_\\textrm{groups}$ \n",
    "A group is a time or a condition   \n",
    "\n",
    "$SS_\\textrm{groups} = n \\sum_{i=1}^k (\\overline{r}_i - \\overline{r})^2$\n"
   ]
  },
  {
   "cell_type": "code",
   "execution_count": 5,
   "metadata": {},
   "outputs": [
    {
     "data": {
      "text/markdown": [
       "$SS_{groups}$ = 36.6"
      ],
      "text/plain": [
       "<IPython.core.display.Markdown object>"
      ]
     },
     "metadata": {},
     "output_type": "display_data"
    }
   ],
   "source": [
    "# Compute mean value per column:\n",
    "\n",
    "SSg = 0.0\n",
    "\n",
    "rbars = ranks.mean()\n",
    "for rbar_i in rbars:\n",
    "    diff_squared = (rbar_i - rbar)**2\n",
    "    SSg= SSg + diff_squared\n",
    "SSg = SSg * n\n",
    "\n",
    "printmd(\"$SS_{{groups}}$ = {}\".format(round(SSg,3)))"
   ]
  },
  {
   "cell_type": "markdown",
   "metadata": {},
   "source": [
    "##### Sum of squares error $SS_\\textrm{error}$    \n",
    "\n",
    "$SS_\\textrm{error} = \\frac{1}{n(k-1)} \\sum_{i=1}^N \\sum_{j=1}^k (r_{ij} - \\bar{r})^2$\n"
   ]
  },
  {
   "cell_type": "code",
   "execution_count": 6,
   "metadata": {},
   "outputs": [
    {
     "data": {
      "text/markdown": [
       "$SS_{error}$ = 1.0"
      ],
      "text/plain": [
       "<IPython.core.display.Markdown object>"
      ]
     },
     "metadata": {},
     "output_type": "display_data"
    }
   ],
   "source": [
    "SSe = 0.0\n",
    "\n",
    "for row in ranks.values:\n",
    "    for rank in row:\n",
    "        diff_squared = (rank - rbar)**2\n",
    "        SSe = SSe + diff_squared\n",
    "SSe = SSe / float(n*(k-1))\n",
    "\n",
    "printmd(\"$SS_{{error}}$ = {}\".format(round(SSe,3)))"
   ]
  },
  {
   "cell_type": "markdown",
   "metadata": {},
   "source": [
    "#### $Q$-statistic:    \n",
    "As in other tests, we calculate a $Q$-statistic  \n",
    "\n",
    "${\\displaystyle Q={\\frac {SS_\\textrm{groups}}{SS_\\textrm{error}}}} $. "
   ]
  },
  {
   "cell_type": "code",
   "execution_count": 7,
   "metadata": {},
   "outputs": [
    {
     "data": {
      "text/markdown": [
       "$n = 40, k = 3$"
      ],
      "text/plain": [
       "<IPython.core.display.Markdown object>"
      ]
     },
     "metadata": {},
     "output_type": "display_data"
    },
    {
     "data": {
      "text/markdown": [
       "$Q$-statistic $= 36.6$"
      ],
      "text/plain": [
       "<IPython.core.display.Markdown object>"
      ]
     },
     "metadata": {},
     "output_type": "display_data"
    }
   ],
   "source": [
    "Qstatistic = (SSg/SSe)\n",
    "printmd('$n = {}, k = {}$'.format(n,k))\n",
    "printmd('$Q$-statistic $= {}$'.format(round(Qstatistic,3)))\n"
   ]
  },
  {
   "cell_type": "code",
   "execution_count": 8,
   "metadata": {},
   "outputs": [
    {
     "data": {
      "text/markdown": [
       "P-value $= 1.1282646483756764e-08$"
      ],
      "text/plain": [
       "<IPython.core.display.Markdown object>"
      ]
     },
     "metadata": {},
     "output_type": "display_data"
    }
   ],
   "source": [
    "from scipy.stats import chi2\n",
    "\n",
    "# As explained above, the Q distribution can be approximation by a chi2 distribution,\n",
    "# for k=2, as in this case, one should look at the value at Q tables for Friedman distribution.\n",
    "# We omit this step for simplicity here.\n",
    "\n",
    "DF=k-1\n",
    "pvalue = 1-chi2.cdf(Qstatistic,DF)\n",
    "printmd('P-value $= {}$'.format(pvalue))"
   ]
  },
  {
   "cell_type": "markdown",
   "metadata": {},
   "source": [
    "<a id='scipy'></a>    \n",
    "\n",
    "## Scipy example    \n",
    "Let's use now the scipy implementation of the above"
   ]
  },
  {
   "cell_type": "code",
   "execution_count": 9,
   "metadata": {},
   "outputs": [
    {
     "data": {
      "text/plain": [
       "FriedmanchisquareResult(statistic=36.600000000000023, pvalue=1.128264649549649e-08)"
      ]
     },
     "execution_count": 9,
     "metadata": {},
     "output_type": "execute_result"
    }
   ],
   "source": [
    "from scipy import stats\n",
    "measure1 = df['before'].values\n",
    "measure2 = df['during'].values\n",
    "measure3 = df['after'].values\n",
    "stats.friedmanchisquare(measure1,measure2,measure3)"
   ]
  },
  {
   "cell_type": "markdown",
   "metadata": {},
   "source": [
    "In this case, the pvalue is virtually zero, and hence we can safetly reject our null hypothesis. i.e., there are significant differences among the measures.    \n",
    "\n",
    "Note that this conclusion is in agreement with that of my notebook on Repeated measures ANOVA.    "
   ]
  },
  {
   "cell_type": "code",
   "execution_count": null,
   "metadata": {
    "collapsed": true
   },
   "outputs": [],
   "source": []
  }
 ],
 "metadata": {
  "kernelspec": {
   "display_name": "Python 3",
   "language": "python",
   "name": "python3"
  },
  "language_info": {
   "codemirror_mode": {
    "name": "ipython",
    "version": 3
   },
   "file_extension": ".py",
   "mimetype": "text/x-python",
   "name": "python",
   "nbconvert_exporter": "python",
   "pygments_lexer": "ipython3",
   "version": "3.5.2"
  }
 },
 "nbformat": 4,
 "nbformat_minor": 2
}
