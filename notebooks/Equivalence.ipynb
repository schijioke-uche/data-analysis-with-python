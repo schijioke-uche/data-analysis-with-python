{
 "cells": [
  {
   "cell_type": "markdown",
   "metadata": {},
   "source": [
    "# Testing equivalence of two samples   \n",
    "  \n",
    "by Jeffrey Chijioke-Uche (IBM) (PhD Scholar - Information Technology - Harvard University & Walden University) \n",
    "\n",
    "Contents:    \n",
    "[1. Data](#data)    \n",
    "[2. TOST](#tost)"
   ]
  },
  {
   "cell_type": "markdown",
   "metadata": {},
   "source": [
    "<a id='data'></a>    \n",
    "# Data   \n",
    "Let's construct two equivalent random samples"
   ]
  },
  {
   "cell_type": "code",
   "execution_count": 1,
   "metadata": {},
   "outputs": [
    {
     "name": "stdout",
     "output_type": "stream",
     "text": [
      "Sample 1: mean = 0.9625126780308956, std =1.965912306913294\n",
      "Sample 2: mean = 1.0132368055437375, std =1.954123670915907\n"
     ]
    }
   ],
   "source": [
    "import numpy as np\n",
    "from IPython.display import Markdown, display\n",
    "def printmd(string):\n",
    "    display(Markdown(string))\n",
    "\n",
    "# Let's construct two samples normally distributed with a given mean (mu) and standard deviations (std).   \n",
    "sample_size=3000\n",
    "\n",
    "mu = 1.0; std = 2.0;\n",
    "sample1 = np.random.normal(loc=mu, scale=std, size=sample_size)\n",
    "mu1 = sample1.mean(); std1 = sample1.std(); n1=len(sample1)\n",
    "print(\"Sample 1: mean = {}, std ={}\".format(mu1,std1))\n",
    "\n",
    "mu = 1.0; std=2.0;\n",
    "sample2 = np.random.normal(loc=mu, scale=std, size=sample_size)\n",
    "mu2 = sample2.mean(); std2 = sample2.std(); n2=len(sample2)\n",
    "print(\"Sample 2: mean = {}, std ={}\".format(mu2,std2))"
   ]
  },
  {
   "cell_type": "code",
   "execution_count": 2,
   "metadata": {},
   "outputs": [
    {
     "data": {
      "image/png": "[encoded data removed]",
      "text/plain": [
       "<matplotlib.figure.Figure at 0x10c677d30>"
      ]
     },
     "metadata": {},
     "output_type": "display_data"
    }
   ],
   "source": [
    "import matplotlib as plt\n",
    "%matplotlib inline\n",
    "import seaborn as sns\n",
    "sns.set(style=\"ticks\")\n",
    "\n",
    "# Load the example dataset for Anscombe's quartet\n",
    "#df = sns.load_dataset(\"anscombe\")\n",
    "\n",
    "bins = np.arange(-10,10,0.5)\n",
    "\n",
    "# Show the results of a linear regression within each dataset\n",
    "ax1 = sns.distplot(sample1,bins=bins)\n",
    "ax2 = sns.distplot(sample2,bins=bins)\n",
    "\n",
    "plt.pyplot.show()"
   ]
  },
  {
   "cell_type": "markdown",
   "metadata": {},
   "source": [
    "# t-test   \n",
    "We could test if the two distribution are means significantly different, see [ttest](https://github.com/trangel/stats-with-python/blob/master/notebooks//Difference between means.ipynb)\n",
    "\n",
    "Null hypothesis    \n",
    "$\\mathcal{H}_0$ : $ \\mu_1 - \\mu_2 = 0$    \n",
    "\n",
    "Alternative hypothesis   \n",
    "$\\mathcal{H}_1$ : $ \\mu_1 - \\mu_2 \\neq 0$   \n",
    "\n",
    "For a significance $\\alpha = 0.05$\n"
   ]
  },
  {
   "cell_type": "code",
   "execution_count": 3,
   "metadata": {},
   "outputs": [
    {
     "data": {
      "text/markdown": [
       "t-score -1.0"
      ],
      "text/plain": [
       "<IPython.core.display.Markdown object>"
      ]
     },
     "metadata": {},
     "output_type": "display_data"
    },
    {
     "data": {
      "text/markdown": [
       "p-value 0.3163"
      ],
      "text/plain": [
       "<IPython.core.display.Markdown object>"
      ]
     },
     "metadata": {},
     "output_type": "display_data"
    }
   ],
   "source": [
    "from scipy import stats\n",
    "twosample_results = stats.ttest_ind(sample1, sample2)\n",
    "TestStatistic = twosample_results[0]\n",
    "pvalue = twosample_results[1]\n",
    "\n",
    "printmd('t-score {}'.format(round(TestStatistic,2)))\n",
    "printmd('p-value {}'.format(round(pvalue,4)))"
   ]
  },
  {
   "cell_type": "markdown",
   "metadata": {},
   "source": [
    "The p-value is quite large, $> 0.05$, hence we cannot reject the null hypothesis. The two samples have similar mean values.  "
   ]
  },
  {
   "cell_type": "markdown",
   "metadata": {},
   "source": [
    "<a id='TOST'></a>    \n",
    "# TOST test   \n",
    "Another approach is to test if the two samples are equivalent with the TOST (two one-sided tests) test.   \n",
    "Unlike classical hypothesis testing, equivalence tests are used to validate the fact that a difference is in a given interval.\n",
    "\n",
    "The null hypothesis of non-equivalence is   \n",
    "$\\mathcal{H}_0$: \n",
    "$\\mu_2 - \\mu_1 \\leq \\epsilon_L$ and $\\mu_2 - \\mu_1 \\geq \\epsilon_U$ \n",
    "\n",
    "where $\\mu_i$ is the mean value for sample $i$ and $\\epsilon_L$, $\\epsilon_U$ are the lower and upper bounds on the difference between means.   \n",
    "\n",
    "The alternative hypothesis is   \n",
    "$\\mathcal{H}_1$: $\\epsilon_L < \\mu_2 - \\mu_1 < \\epsilon_U$   \n",
    "\n",
    "The test uses the following equations:    \n",
    "$T_L = \\frac{\\displaystyle (\\mean_2 - \\mean\n"
   ]
  },
  {
   "cell_type": "code",
   "execution_count": null,
   "metadata": {
    "collapsed": true
   },
   "outputs": [],
   "source": []
  }
 ],
 "metadata": {
  "kernelspec": {
   "display_name": "Python 3",
   "language": "python",
   "name": "python3"
  },
  "language_info": {
   "codemirror_mode": {
    "name": "ipython",
    "version": 3
   },
   "file_extension": ".py",
   "mimetype": "text/x-python",
   "name": "python",
   "nbconvert_exporter": "python",
   "pygments_lexer": "ipython3",
   "version": "3.5.2"
  }
 },
 "nbformat": 4,
 "nbformat_minor": 2
}
