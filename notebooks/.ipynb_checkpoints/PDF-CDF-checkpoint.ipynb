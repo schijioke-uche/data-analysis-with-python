{
 "cells": [
  {
   "cell_type": "markdown",
   "metadata": {},
   "source": [
    "# Cumulative Distribution Function \n",
    "\n",
    "In this notebook, I get the CDF from a given distribution.\n",
    "\n",
    "The steps to take are:   \n",
    "1) [Sort raw data](#section1)   \n",
    "2) [Normalize and get CDF](#section2)   \n",
    "3) [Binarize, and plot data ](#section3)  "
   ]
  },
  {
   "cell_type": "code",
   "execution_count": 1,
   "metadata": {
    "collapsed": true
   },
   "outputs": [],
   "source": [
    "% matplotlib inline"
   ]
  },
  {
   "cell_type": "markdown",
   "metadata": {},
   "source": [
    "<a id='section1'></a>\n",
    "## Section 1"
   ]
  },
  {
   "cell_type": "code",
   "execution_count": 2,
   "metadata": {
    "collapsed": true
   },
   "outputs": [],
   "source": [
    "import numpy as np\n",
    "from scipy.stats import norm\n",
    "\n",
    "\n",
    "# Get random samples\n",
    "n = 1000\n",
    "#X=np.random.random_sample(n)\n",
    "\n",
    "# Get random numbers, normally distributed\n",
    "X = norm.rvs(size=n)\n",
    "\n",
    "# Sort data\n",
    "X = np.sort(X)\n",
    "\n",
    "#x = np.linspace(norm.ppf(0.01),norm.ppf(0.99), 100)\n"
   ]
  },
  {
   "cell_type": "markdown",
   "metadata": {},
   "source": [
    "<a id='section2'></a>\n",
    "## Section 2"
   ]
  },
  {
   "cell_type": "code",
   "execution_count": 3,
   "metadata": {},
   "outputs": [],
   "source": [
    "from scipy.misc import derivative\n",
    "# Get PDF function:\n",
    "#rv = norm()\n",
    "#PDF = rv.pdf(X)\n",
    "#CDF = rv.cdf(X)\n",
    "\n",
    "# The above will produce the CDF for a normal distribution, so we need this instead:\n",
    "\n",
    "\n",
    "# calculate the proportional values of samples\n",
    "CDF = 1. * np.arange(len(X)) / (len(X) - 1)\n"
   ]
  },
  {
   "cell_type": "code",
   "execution_count": 4,
   "metadata": {},
   "outputs": [
    {
     "name": "stdout",
     "output_type": "stream",
     "text": [
      "-2.88872772212 3.39448085451 0.01\n"
     ]
    }
   ],
   "source": [
    "xmax = X.max()\n",
    "xmin = X.min()\n",
    "xstep = 0.01\n",
    "\n",
    "print(xmin,xmax,xstep)"
   ]
  },
  {
   "cell_type": "markdown",
   "metadata": {},
   "source": [
    "<a id='section3'></a>\n",
    "## Section 3"
   ]
  },
  {
   "cell_type": "code",
   "execution_count": 5,
   "metadata": {},
   "outputs": [
    {
     "data": {
      "image/png": "[encoded data removed]",
      "text/plain": [
       "<matplotlib.figure.Figure at 0x10f91bc50>"
      ]
     },
     "metadata": {},
     "output_type": "display_data"
    }
   ],
   "source": [
    "import matplotlib.pyplot as plt\n",
    "\n",
    "xx = np.arange(xmin,xmax,xstep)\n",
    "\n",
    "fig, ax = plt.subplots()\n",
    "\n",
    "\n",
    "#ax.plot(X, PDF, 'k-', lw=2, label='frozen pdf')\n",
    "#ax.plot(X, PDF, 'r-', lw=5, alpha=0.6, label = 'PDF')\n",
    "ax.plot(X, CDF, 'g-', lw=5, alpha=0.6, label = 'CDF' )\n",
    "n,bins,patches=ax.hist(X, bins=np.arange(xmin, xmax, xstep),normed=1,facecolor='blue',align='mid',label='distribution')\n",
    "\n",
    "\n",
    "ax.legend(loc='right')\n",
    "#ax.set_title('PDF function')\n",
    "ax.set_ylabel('CDF')\n",
    "ax.set_xlabel('x')\n",
    "\n",
    "\n",
    "plt.show()"
   ]
  },
  {
   "cell_type": "code",
   "execution_count": null,
   "metadata": {
    "collapsed": true
   },
   "outputs": [],
   "source": []
  }
 ],
 "metadata": {
  "kernelspec": {
   "display_name": "Python 3",
   "language": "python",
   "name": "python3"
  },
  "language_info": {
   "codemirror_mode": {
    "name": "ipython",
    "version": 3
   },
   "file_extension": ".py",
   "mimetype": "text/x-python",
   "name": "python",
   "nbconvert_exporter": "python",
   "pygments_lexer": "ipython3",
   "version": "3.6.1"
  }
 },
 "nbformat": 4,
 "nbformat_minor": 2
}
