{
 "cells": [
  {
   "cell_type": "markdown",
   "metadata": {},
   "source": [
    "# Paired t-test   \n",
    "by Tonatiuh Rangel\n",
    "\n",
    "\n",
    "## Contents:    \n",
    "1. [Theory](#theory)   \n",
    "2. [Numerical example](#example)\n",
    "3. [Scipy's example](#scipy)"
   ]
  },
  {
   "cell_type": "markdown",
   "metadata": {},
   "source": [
    "<a id='theory'></a>\n",
    "\n",
    ">Paired t-test is a statistical procedure used to determine whether the mean difference between two sets of observations is zero. In a paired sample t-test, each subject or entity is measured twice, resulting in pairs of observations. Source: [statisticssolutions](http://www.statisticssolutions.com/manova-analysis-paired-sample-t-test/)\n",
    "\n",
    "Paired t-test, also called dependent t-test, is used to \n",
    "* Determine if a given medicine has an effect on patients, in which samples are collected before and after medication for the same people, and we can evaluate the statistical difference between samples    \n",
    "\n",
    "\n",
    "### Assumptions:\n",
    "1. The dependent variable must be continuous (interval/ratio)  \n",
    "2. The observations are independent of one another.   \n",
    "3. The dependent variable should be normally or approximately normally distributed.   \n",
    "4. The dependent variable should not contain outliers.   \n",
    "\n",
    "### Hypothesis\n",
    "|Set|\tNull hypothesis\t| Alternative hypothesis |No. of tails |\n",
    "|---|:-----------------:|:----------------------:|:-----------:|\n",
    "|1\t| $\\mu_1 - \\mu_2 = 0$ | $\\mu_1 - \\mu_2 \\neq 0$ |\t2|\n",
    "|2\t| $\\mu_1 - \\mu_2 > 0$ | $\\mu_1 - \\mu_2 < 0$ | 1|\n",
    "|3\t| $\\mu_1 - \\mu_2 < 0$ | $\\mu_1 - \\mu_2 > 0$ | 1|\n",
    "\n",
    "\n",
    "### Test method\n",
    "\n",
    "We will use the ** paired t-test ** method.   \n",
    "\n",
    "#### Steps:   \n",
    "\n",
    "We will use the following nomenclature:   \n",
    "\n",
    "$D =$   differences between two paired samples   \n",
    "$d_i =$ $i^{\\textrm{th}}$ observation in $D$     \n",
    "$n =$   sample size    \n",
    "$\\overline{d} =$ sample mean of the differences    \n",
    "$s_d =$ sample standard deviation of the differences   \n",
    "\n",
    "\n",
    "#### Standard error (SE):   \n",
    "SE$ =  \\frac{\\displaystyle s_d}{ \\sqrt{n}} $\n",
    "\n",
    "\n",
    "#### Degrees of freedom (DF):   \n",
    "DF $ = n-1$\n",
    "\n",
    "\n",
    "#### Test statistic:   \n",
    "$t = \\frac{\\displaystyle \\overline{d} }{\\displaystyle \\textrm{SE}}$\n",
    "\n",
    "\n"
   ]
  },
  {
   "cell_type": "markdown",
   "metadata": {},
   "source": [
    "<a id='example'></a>\n",
    "## Numerical example    \n",
    "In this test, let's use a hypothethical example of blood glucose (BG) readings of persons with diabetes.    \n",
    "The test is done twice, say before and after a given clinical treatment and we want to know if there is a significant difference after the treatment.     \n",
    "\n",
    "The database is not real but just to be used as a toy example.   \n",
    "This contains BG readings (in mg/dL) for 40 persons with diabetes at different times."
   ]
  },
  {
   "cell_type": "code",
   "execution_count": 1,
   "metadata": {},
   "outputs": [
    {
     "data": {
      "text/html": [
       "<div>\n",
       "<style>\n",
       "    .dataframe thead tr:only-child th {\n",
       "        text-align: right;\n",
       "    }\n",
       "\n",
       "    .dataframe thead th {\n",
       "        text-align: left;\n",
       "    }\n",
       "\n",
       "    .dataframe tbody tr th {\n",
       "        vertical-align: top;\n",
       "    }\n",
       "</style>\n",
       "<table border=\"1\" class=\"dataframe\">\n",
       "  <thead>\n",
       "    <tr style=\"text-align: right;\">\n",
       "      <th></th>\n",
       "      <th>BG 1</th>\n",
       "      <th>BG 2</th>\n",
       "    </tr>\n",
       "    <tr>\n",
       "      <th>Person ID</th>\n",
       "      <th></th>\n",
       "      <th></th>\n",
       "    </tr>\n",
       "  </thead>\n",
       "  <tbody>\n",
       "    <tr>\n",
       "      <th>0</th>\n",
       "      <td>89.162573</td>\n",
       "      <td>94.023517</td>\n",
       "    </tr>\n",
       "    <tr>\n",
       "      <th>1</th>\n",
       "      <td>90.857629</td>\n",
       "      <td>95.273755</td>\n",
       "    </tr>\n",
       "    <tr>\n",
       "      <th>2</th>\n",
       "      <td>94.912999</td>\n",
       "      <td>96.612870</td>\n",
       "    </tr>\n",
       "    <tr>\n",
       "      <th>3</th>\n",
       "      <td>95.254064</td>\n",
       "      <td>96.818673</td>\n",
       "    </tr>\n",
       "    <tr>\n",
       "      <th>4</th>\n",
       "      <td>97.136291</td>\n",
       "      <td>97.760342</td>\n",
       "    </tr>\n",
       "  </tbody>\n",
       "</table>\n",
       "</div>"
      ],
      "text/plain": [
       "                BG 1       BG 2\n",
       "Person ID                      \n",
       "0          89.162573  94.023517\n",
       "1          90.857629  95.273755\n",
       "2          94.912999  96.612870\n",
       "3          95.254064  96.818673\n",
       "4          97.136291  97.760342"
      ]
     },
     "execution_count": 1,
     "metadata": {},
     "output_type": "execute_result"
    }
   ],
   "source": [
    "import pandas as pd\n",
    "import numpy as np\n",
    "# This is to print in markdown style\n",
    "from IPython.display import Markdown, display\n",
    "def printmd(string):\n",
    "    display(Markdown(string))\n",
    "\n",
    "# Read dataset locally:\n",
    "#df = pd.read_csv('../data/BG-db.csv',index_col=0)\n",
    "\n",
    "\n",
    "# Read dataset from url:\n",
    "import io\n",
    "import requests\n",
    "url=\"https://raw.githubusercontent.com/trangel/stats-with-python/master/data/BG-db.csv\"\n",
    "s=requests.get(url).content\n",
    "df=pd.read_csv(io.StringIO(s.decode('utf-8')),index_col=0)\n",
    "\n",
    "\n",
    "del df['BG 3']\n",
    "df.head()"
   ]
  },
  {
   "cell_type": "code",
   "execution_count": 2,
   "metadata": {},
   "outputs": [
    {
     "data": {
      "image/png": "[encoded data removed]",
      "text/plain": [
       "<matplotlib.figure.Figure at 0x10f055a20>"
      ]
     },
     "metadata": {},
     "output_type": "display_data"
    }
   ],
   "source": [
    "# Let's visualize the data\n",
    "import matplotlib as plt\n",
    "%matplotlib inline\n",
    "import seaborn as sns\n",
    "sns.set(style=\"ticks\")\n",
    "\n",
    "\n",
    "bins = np.arange(70,150,6)\n",
    "\n",
    "A = df['BG 1'].values\n",
    "B = df['BG 2'].values\n",
    "\n",
    "# Show the results of a linear regression within each dataset\n",
    "ax1 = sns.distplot(A,bins=bins,label='Before treatment')\n",
    "ax2 = sns.distplot(B,bins=bins,label='After treatment')\n",
    "\n",
    "plt.pyplot.xlabel('BG level')\n",
    "plt.pyplot.ylabel('Distribution of BG levels')\n",
    "plt.pyplot.legend(bbox_to_anchor=(0.45, 0.95), loc=2, borderaxespad=0.)\n",
    "\n",
    "plt.pyplot.xlim((60,160))\n",
    "plt.pyplot.show()"
   ]
  },
  {
   "cell_type": "markdown",
   "metadata": {},
   "source": [
    "Given this data, we want to know if the two BG readings taken at different times (BG1 and BG2) for the 40 persons with diabetes are significantly different.    \n",
    "\n",
    "Let's use a paired t-test as defined above.    \n",
    "First, we calculate the difference between BG readings"
   ]
  },
  {
   "cell_type": "code",
   "execution_count": 3,
   "metadata": {},
   "outputs": [
    {
     "data": {
      "text/html": [
       "<div>\n",
       "<style>\n",
       "    .dataframe thead tr:only-child th {\n",
       "        text-align: right;\n",
       "    }\n",
       "\n",
       "    .dataframe thead th {\n",
       "        text-align: left;\n",
       "    }\n",
       "\n",
       "    .dataframe tbody tr th {\n",
       "        vertical-align: top;\n",
       "    }\n",
       "</style>\n",
       "<table border=\"1\" class=\"dataframe\">\n",
       "  <thead>\n",
       "    <tr style=\"text-align: right;\">\n",
       "      <th></th>\n",
       "      <th>BG 1</th>\n",
       "      <th>BG 2</th>\n",
       "      <th>Difference</th>\n",
       "    </tr>\n",
       "    <tr>\n",
       "      <th>Person ID</th>\n",
       "      <th></th>\n",
       "      <th></th>\n",
       "      <th></th>\n",
       "    </tr>\n",
       "  </thead>\n",
       "  <tbody>\n",
       "    <tr>\n",
       "      <th>0</th>\n",
       "      <td>89.162573</td>\n",
       "      <td>94.023517</td>\n",
       "      <td>4.860944</td>\n",
       "    </tr>\n",
       "    <tr>\n",
       "      <th>1</th>\n",
       "      <td>90.857629</td>\n",
       "      <td>95.273755</td>\n",
       "      <td>4.416126</td>\n",
       "    </tr>\n",
       "    <tr>\n",
       "      <th>2</th>\n",
       "      <td>94.912999</td>\n",
       "      <td>96.612870</td>\n",
       "      <td>1.699871</td>\n",
       "    </tr>\n",
       "    <tr>\n",
       "      <th>3</th>\n",
       "      <td>95.254064</td>\n",
       "      <td>96.818673</td>\n",
       "      <td>1.564609</td>\n",
       "    </tr>\n",
       "    <tr>\n",
       "      <th>4</th>\n",
       "      <td>97.136291</td>\n",
       "      <td>97.760342</td>\n",
       "      <td>0.624052</td>\n",
       "    </tr>\n",
       "  </tbody>\n",
       "</table>\n",
       "</div>"
      ],
      "text/plain": [
       "                BG 1       BG 2  Difference\n",
       "Person ID                                  \n",
       "0          89.162573  94.023517    4.860944\n",
       "1          90.857629  95.273755    4.416126\n",
       "2          94.912999  96.612870    1.699871\n",
       "3          95.254064  96.818673    1.564609\n",
       "4          97.136291  97.760342    0.624052"
      ]
     },
     "execution_count": 3,
     "metadata": {},
     "output_type": "execute_result"
    }
   ],
   "source": [
    "def difference(a,b):\n",
    "    return b-a\n",
    "df['Difference']=df.apply(lambda row: difference(row['BG 1'], row['BG 2']), axis=1)\n",
    "df.head()"
   ]
  },
  {
   "cell_type": "markdown",
   "metadata": {},
   "source": [
    "Calculating the mean and standard deviation of the differences gives"
   ]
  },
  {
   "cell_type": "code",
   "execution_count": 4,
   "metadata": {},
   "outputs": [
    {
     "data": {
      "text/markdown": [
       "$\\overline{d} = -2.021$"
      ],
      "text/plain": [
       "<IPython.core.display.Markdown object>"
      ]
     },
     "metadata": {},
     "output_type": "display_data"
    },
    {
     "data": {
      "text/markdown": [
       "$s_d = 2.972$"
      ],
      "text/plain": [
       "<IPython.core.display.Markdown object>"
      ]
     },
     "metadata": {},
     "output_type": "display_data"
    }
   ],
   "source": [
    "diff = df['Difference'].values\n",
    "\n",
    "d = diff.mean()\n",
    "std = diff.std(ddof=1)\n",
    "\n",
    "printmd('$\\overline{{d}} = {}$'.format(round(d,3)))\n",
    "printmd('$s_d = {}$'.format(round(std,3)))\n"
   ]
  },
  {
   "cell_type": "markdown",
   "metadata": {},
   "source": [
    "Now, calculate the corresponding test statistic   "
   ]
  },
  {
   "cell_type": "code",
   "execution_count": 5,
   "metadata": {},
   "outputs": [
    {
     "data": {
      "text/markdown": [
       "SE = 0.47"
      ],
      "text/plain": [
       "<IPython.core.display.Markdown object>"
      ]
     },
     "metadata": {},
     "output_type": "display_data"
    },
    {
     "data": {
      "text/markdown": [
       "$\\mu_1 = 109.73, \\mu_2 = 107.71$"
      ],
      "text/plain": [
       "<IPython.core.display.Markdown object>"
      ]
     },
     "metadata": {},
     "output_type": "display_data"
    }
   ],
   "source": [
    "SE = std/(len(df))**0.5\n",
    "DF = len(df)-1\n",
    "\n",
    "# Mean of sample 1:\n",
    "mu1 = df['BG 1'].values.mean()\n",
    "mu2 = df['BG 2'].values.mean()\n",
    "\n",
    "printmd('SE = {}'.format(round(SE,3)))\n",
    "printmd('$\\mu_1 = {}, \\mu_2 = {}$'.format(round(mu1,2),round(mu2,2)))\n",
    "\n",
    "TestStatistic = (mu2 - mu1)/SE\n"
   ]
  },
  {
   "cell_type": "code",
   "execution_count": 6,
   "metadata": {},
   "outputs": [
    {
     "data": {
      "text/markdown": [
       "t-score -4.3"
      ],
      "text/plain": [
       "<IPython.core.display.Markdown object>"
      ]
     },
     "metadata": {},
     "output_type": "display_data"
    },
    {
     "data": {
      "text/markdown": [
       "p-value = 0.00011"
      ],
      "text/plain": [
       "<IPython.core.display.Markdown object>"
      ]
     },
     "metadata": {},
     "output_type": "display_data"
    }
   ],
   "source": [
    "from scipy import stats\n",
    "pvalue = 2.0* stats.t.cdf(TestStatistic, DF)\n",
    "# Multiply by two, since this is two-tailed test\n",
    "\n",
    "printmd('t-score {}'.format(round(TestStatistic,2)))\n",
    "printmd(\"p-value = {}\".format(round(pvalue,5)))"
   ]
  },
  {
   "cell_type": "markdown",
   "metadata": {},
   "source": [
    "The probability value for t-statistic = -19.04 is virtually 0, hence we can reject the null hypothesis and tell that the two BG readings are significantly different."
   ]
  },
  {
   "cell_type": "markdown",
   "metadata": {},
   "source": [
    "<a id='scipy'></a>   \n",
    "## t-test with scipy    \n",
    "\n",
    "Let's repeat this test with scipy"
   ]
  },
  {
   "cell_type": "code",
   "execution_count": 7,
   "metadata": {},
   "outputs": [
    {
     "data": {
      "text/plain": [
       "Ttest_relResult(statistic=-4.3004899552379108, pvalue=0.00011038369115019783)"
      ]
     },
     "execution_count": 7,
     "metadata": {},
     "output_type": "execute_result"
    }
   ],
   "source": [
    "# Sample 1\n",
    "a = df['BG 2']\n",
    "b = df['BG 1']\n",
    "\n",
    "stats.ttest_rel(a,b)\n"
   ]
  }
 ],
 "metadata": {
  "kernelspec": {
   "display_name": "Python 3",
   "language": "python",
   "name": "python3"
  },
  "language_info": {
   "codemirror_mode": {
    "name": "ipython",
    "version": 3
   },
   "file_extension": ".py",
   "mimetype": "text/x-python",
   "name": "python",
   "nbconvert_exporter": "python",
   "pygments_lexer": "ipython3",
   "version": "3.5.2"
  }
 },
 "nbformat": 4,
 "nbformat_minor": 2
}
