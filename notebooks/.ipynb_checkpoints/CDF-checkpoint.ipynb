{
 "cells": [
  {
   "cell_type": "markdown",
   "metadata": {},
   "source": [
    "# Cumulative Distribution Function \n",
    "\n",
    "In this notebook, I get the CDF from a given distribution.\n",
    "\n",
    "The steps to take are:   \n",
    "1) [Sort raw data](#section1)   \n",
    "2) [Normalize and get CDF](#section2)   \n",
    "3) [Binarize, and plot data ](#section3)  "
   ]
  },
  {
   "cell_type": "code",
   "execution_count": 1,
   "metadata": {
    "collapsed": true
   },
   "outputs": [],
   "source": [
    "% matplotlib inline"
   ]
  },
  {
   "cell_type": "markdown",
   "metadata": {},
   "source": [
    "<a id='section1'></a>\n",
    "## Section 1"
   ]
  },
  {
   "cell_type": "code",
   "execution_count": 2,
   "metadata": {
    "collapsed": true
   },
   "outputs": [],
   "source": [
    "import numpy as np\n",
    "from scipy.stats import norm\n",
    "\n",
    "\n",
    "# Get random samples\n",
    "n = 2000\n",
    "#X=np.random.random_sample(n)\n",
    "\n",
    "# Get a normal distribution\n",
    "X = norm.rvs(size=n) \n",
    "\n",
    "# Sort data\n",
    "X = np.sort(X)\n",
    "\n"
   ]
  },
  {
   "cell_type": "markdown",
   "metadata": {},
   "source": [
    "<a id='section2'></a>\n",
    "## Section 2"
   ]
  },
  {
   "cell_type": "code",
   "execution_count": 3,
   "metadata": {},
   "outputs": [
    {
     "data": {
      "text/plain": [
       "array([[  0.00000000e+00,  -3.50195078e+00],\n",
       "       [  5.00000000e-04,  -3.23284705e+00],\n",
       "       [  1.00000000e-03,  -2.87278654e+00],\n",
       "       ..., \n",
       "       [  9.98500000e-01,   2.78183778e+00],\n",
       "       [  9.99000000e-01,   2.78306704e+00],\n",
       "       [  9.99500000e-01,   2.80337714e+00]])"
      ]
     },
     "execution_count": 3,
     "metadata": {},
     "output_type": "execute_result"
    }
   ],
   "source": [
    "\n",
    "# The scipy functions are useful if your distribution can be fitted to a known distribution.\n",
    "# Get PDF function:\n",
    "rv = norm()\n",
    "PDF_normal = rv.pdf(X)\n",
    "CDF_normal = rv.cdf(X)\n",
    "# The above will produce the CDF for a normal distribution, so we need this instead:\n",
    "\n",
    "\n",
    "# If you don't know the shape of the distribution:\n",
    "\n",
    "# Solution 1:\n",
    "# This assumes that there are no repeated values:\n",
    "CDF1 = 1. * np.arange(len(X)) / (len(X) - 1)\n",
    "\n",
    "# Solution 2: This solution is probably overkilling, \n",
    "# but this works in the practice:\n",
    "# Percentiles is an array from 0 to 100:\n",
    "percentiles = np.arange(0,1,(1.0-0.0)/len(X))*100.0\n",
    "CDF=[]\n",
    "for percentile in percentiles:\n",
    "    CDF.append([percentile/100.0,np.percentile(X,percentile)])\n",
    "CDF=np.array(CDF)\n",
    "# Note this CDF contains 2 columns: \n",
    "# 1. percentile and 2. the corresponding value.\n",
    "CDF"
   ]
  },
  {
   "cell_type": "markdown",
   "metadata": {},
   "source": [
    "<a id='section3'></a>\n",
    "## Section 3"
   ]
  },
  {
   "cell_type": "code",
   "execution_count": 5,
   "metadata": {},
   "outputs": [
    {
     "data": {
      "image/png": "[encoded data removed]",
      "text/plain": [
       "<matplotlib.figure.Figure at 0x1198bc668>"
      ]
     },
     "metadata": {},
     "output_type": "display_data"
    }
   ],
   "source": [
    "import matplotlib.pyplot as plt\n",
    "\n",
    "xstep=0.01\n",
    "\n",
    "fig, ax = plt.subplots()\n",
    "\n",
    "\n",
    "ax.plot(X, PDF_normal, 'k-', lw=2, label='PDF for normal D')\n",
    "ax.plot(X, CDF_normal, 'g.', lw=5, alpha=0.6, label = 'CDF for normal D' )\n",
    "#\n",
    "# CDF's obtained from more general approaches:\n",
    "ax.plot(X, CDF1, 'r+', lw=5, alpha=0.6, label = 'CDF 1' )\n",
    "ax.plot(CDF[:,1],CDF[:,0], 'y-', lw=5, alpha=0.6, label = 'CDF 2' )\n",
    "\n",
    "\n",
    "n,bins,patches=ax.hist(X, bins=np.arange(X.min(), X.max(), xstep),normed=1,facecolor='blue',align='mid',label='distribution')\n",
    "\n",
    "\n",
    "ax.legend(loc='right')\n",
    "#ax.set_title('PDF function')\n",
    "ax.set_ylabel('CDF')\n",
    "ax.set_xlabel('x')\n",
    "\n",
    "\n",
    "plt.show()"
   ]
  },
  {
   "cell_type": "markdown",
   "metadata": {
    "collapsed": true
   },
   "source": [
    "In this simple case, all CDF cuves overlap, showing that the distinct methods to obtain a CDF work fine."
   ]
  },
  {
   "cell_type": "code",
   "execution_count": null,
   "metadata": {
    "collapsed": true
   },
   "outputs": [],
   "source": []
  }
 ],
 "metadata": {
  "kernelspec": {
   "display_name": "Python 3",
   "language": "python",
   "name": "python3"
  },
  "language_info": {
   "codemirror_mode": {
    "name": "ipython",
    "version": 3
   },
   "file_extension": ".py",
   "mimetype": "text/x-python",
   "name": "python",
   "nbconvert_exporter": "python",
   "pygments_lexer": "ipython3",
   "version": "3.6.1"
  }
 },
 "nbformat": 4,
 "nbformat_minor": 2
}
